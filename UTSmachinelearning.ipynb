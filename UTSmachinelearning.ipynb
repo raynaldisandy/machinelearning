{
 "cells": [
  {
   "cell_type": "markdown",
   "metadata": {},
   "source": [
    "# **UTS**\n",
    "## Machine Learning\n",
    "\n",
    "<img src=\"https://upload.wikimedia.org/wikipedia/commons/6/68/LOGO_UEU_BY_ASU-06.png\" width=50% height=50%>\n",
    "\n",
    "<table style=\"width:75%\">\n",
    "  <tr>\n",
    "    <td><b>Dosen Pengampu</b></td>\n",
    "    <td>Jefry Sunupurwa Asri , S.Kom., M.Kom.</td>\n",
    "   </tr>\n",
    "  <tr>\n",
    "    <td><b>Mahasiswa</b></td>\n",
    "    <td>Raynaldi Sandy</td>\n",
    "  </tr>\n",
    "  <tr>\n",
    "    <td><b>NIM</b></td>\n",
    "    <td>20210801453</td>\n",
    "  </tr>\n",
    "</table>"
   ]
  },
  {
   "cell_type": "markdown",
   "metadata": {},
   "source": [
    "ESSAY"
   ]
  },
  {
   "cell_type": "markdown",
   "metadata": {},
   "source": [
    "1. Jelaskan apa yang dimaksud dengan Machine Learning \n",
    "2. Berikan contoh penerapan implemetasi dalam kehidupan sehari-hari terkait Machine Learning. Dan jelaskan mengapa membutuhkannya dan manfaatnya\n",
    "3. Jelaskan macam-macam taxonomi dalam pengerapan Machine Learning"
   ]
  },
  {
   "cell_type": "markdown",
   "metadata": {},
   "source": [
    "JAWABAN : \n",
    "1. Machine Learning (ML) adalah cabang dari kecerdasan buatan (Artificial Intelligence) yang memungkinkan komputer untuk belajar dari data dan pengalaman tanpa harus secara eksplisit diprogram. Tujuan utama dari machine learning adalah untuk memberikan kemampuan kepada komputer untuk belajar melakukan tugas tertentu berdasarkan pola dan informasi dari data yang diberikan, tanpa perlu pemrograman langsung oleh manusia.\n",
    "\n",
    "2. Terdapat banyak contoh penerapan Machine Learning dalam kehidupan sehari-hari yang membantu memudahkan proses dan memberikan manfaat yang signifikan. Beberapa contohnya meliputi:\n",
    "•\tRekomendasi Produk di Platform E-commerce: Platform seperti Amazon, eBay, atau Tokopedia menggunakan algoritma Machine Learning untuk menganalisis perilaku pembeli, riwayat pembelian, dan preferensi untuk merekomendasikan produk kepada pengguna. Ini membantu meningkatkan pengalaman pengguna, meningkatkan penjualan, dan mengurangi waktu yang dibutuhkan pengguna untuk mencari produk yang diinginkan.\n",
    "•\tPengenalan Suara dan Pemrosesan Bahasa Alami: Asisten virtual seperti Google Assistant, Siri, atau Alexa menggunakan teknologi Machine Learning untuk memahami dan merespons perintah suara pengguna. Ini memudahkan akses informasi, membuat daftar tugas, atau bahkan mengontrol perangkat rumah tangga dengan suara.\n",
    "•\tDeteksi Penipuan pada Kartu Kredit: Institusi keuangan menggunakan Machine Learning untuk mengidentifikasi pola transaksi yang mencurigakan dan mendeteksi aktivitas penipuan pada kartu kredit. Hal ini membantu melindungi pelanggan dari kegiatan ilegal dan mencurigakan.\n",
    "•\tPengenalan Wajah dalam Sistem Keamanan: Penggunaan Machine Learning dalam sistem keamanan untuk mengenali wajah dalam pengawasan kamera CCTV membantu dalam identifikasi dan keamanan di tempat umum, seperti bandara, pusat perbelanjaan, dan area publik lainnya.\n",
    "Manfaat dari implementasi Machine Learning ini meliputi:\n",
    "•\tPeningkatan Efisiensi: Memungkinkan otomatisasi tugas-tugas yang sebelumnya memakan waktu dan dapat dilakukan dengan lebih cepat dan efisien.\n",
    "•\tPeningkatan Akurasi: Kemampuan algoritma Machine Learning untuk belajar dari data memungkinkan pengambilan keputusan yang lebih akurat dan tepat.\n",
    "•\tPenghematan Biaya: Dengan mengurangi kebutuhan akan intervensi manusia dalam beberapa proses, hal ini dapat mengurangi biaya operasional.\n",
    "•\tPeningkatan Pengalaman Pengguna: Dengan memberikan rekomendasi yang lebih relevan atau solusi yang lebih personal, pengguna mendapatkan pengalaman yang lebih baik dalam berinteraksi dengan teknologi.\n",
    "\n",
    "\n",
    "3.   A.\tBerdasarkan Jenis Tugas:\n",
    "•\tPembelajaran Terawasi (Supervised Learning): Model menggunakan data berlabel untuk mempelajari hubungan antara input dan output yang diharapkan.\n",
    "•\tPembelajaran Tak Terawasi (Unsupervised Learning): Model menggunakan data yang tidak berlabel untuk menemukan pola atau struktur dalam data.\n",
    "•\tPembelajaran Penguatan (Reinforcement Learning): Model belajar melalui interaksi dengan lingkungan, menerima reward sebagai umpan balik terhadap tindakan yang diambil.\n",
    "\n",
    "B.\tBerdasarkan Pendekatan Model:\n",
    "•\tParametrik vs. Non-parametrik: Model parametrik memiliki jumlah parameter yang tetap dan terbatas, sementara model non-parametrik memiliki fleksibilitas yang lebih besar dalam menyesuaikan pola.\n",
    "•\tLinear vs. Non-linear: Model linear menggunakan hubungan linier antara input dan output, sementara model non-linear dapat menangkap hubungan yang lebih kompleks dan tidak linier.\n",
    "\n",
    "C.\tBerdasarkan Tujuan:\n",
    "•\tKlasifikasi: Memisahkan data ke dalam kelas atau kategori yang berbeda.\n",
    "Regresi: Memprediksi nilai kontinu dari data berdasarkan pola yang ada.\n",
    "•\tPengelompokan (Clustering): Mengelompokkan data ke dalam kategori berdasarkan kesamaan fitur.\n",
    "•\tDeteksi Anomali: Mengidentifikasi data yang tidak biasa atau berbeda dari mayoritas data.\n",
    "Pencarian Asosiasi: Mencari hubungan antara item dalam kumpulan data.\n",
    "\n",
    "D.\tBerdasarkan Teknik atau Algoritma:\n",
    "•\tDecision Trees (Pohon Keputusan): Membuat keputusan berdasarkan serangkaian aturan.\n",
    "•\tNeural Networks (Jaringan Saraf Tiruan): Model yang terinspirasi dari struktur dan fungsi jaringan saraf manusia.\n",
    "•\tSupport Vector Machines (SVM): Memisahkan data ke dalam kelas dengan menemukan hyperplane terbaik.\n",
    "•\tK-Means Clustering: Metode pengelompokan data ke dalam kategori berdasarkan pusat cluster.\n"
   ]
  },
  {
   "cell_type": "markdown",
   "metadata": {},
   "source": [
    "STUDI KASUS 1"
   ]
  },
  {
   "cell_type": "code",
   "execution_count": 14,
   "metadata": {},
   "outputs": [],
   "source": [
    "import pandas as pd"
   ]
  },
  {
   "cell_type": "code",
   "execution_count": 15,
   "metadata": {},
   "outputs": [],
   "source": [
    "data = {\n",
    "    \"hari\": [\"Senin\", \"Selasa\", \"Rabu\", \"Kamis\", \"Jumat\", \"Sabtu\", \"Minggu\"],\n",
    "    \"datang\": [2, 3, 4, 1, 2, 5, 2],\n",
    "    \"biaya\": [2 * 30000, 3 * 35000, 4 * 25000, 1 * 15000, 2 * 20000, 5 * 30000, 2 * 35000],\n",
    "    \"mahasiswa\": [\"Ani\", \"Budi\", \"Jono\", \"Lono\", \"Jono\", \"Ani\", \"Budi\"],\n",
    "}"
   ]
  },
  {
   "cell_type": "code",
   "execution_count": 16,
   "metadata": {},
   "outputs": [],
   "source": [
    "df = pd.DataFrame(data)"
   ]
  },
  {
   "cell_type": "markdown",
   "metadata": {},
   "source": [
    "A. Berapa rata-rata mahasiswa datang pada minggu ini?"
   ]
  },
  {
   "cell_type": "code",
   "execution_count": 17,
   "metadata": {},
   "outputs": [
    {
     "name": "stdout",
     "output_type": "stream",
     "text": [
      "Rata-rata mahasiswa datang pada minggu ini: 2.7142857142857144\n"
     ]
    }
   ],
   "source": [
    "print(\"Rata-rata mahasiswa datang pada minggu ini:\", df[\"datang\"].mean())"
   ]
  },
  {
   "cell_type": "markdown",
   "metadata": {},
   "source": [
    "B. Kapan biaya tertinggi terjadi ?"
   ]
  },
  {
   "cell_type": "code",
   "execution_count": 27,
   "metadata": {},
   "outputs": [
    {
     "name": "stdout",
     "output_type": "stream",
     "text": [
      "Biaya tertinggi terjadi pada hari: Sabtu\n"
     ]
    }
   ],
   "source": [
    "print(\"Biaya tertinggi terjadi pada hari:\", df[\"hari\"][df[\"biaya\"] == df[\"biaya\"].max()].item());"
   ]
  },
  {
   "cell_type": "markdown",
   "metadata": {},
   "source": [
    "C. Hari apa biaya lebih dari 110000?"
   ]
  },
  {
   "cell_type": "code",
   "execution_count": 19,
   "metadata": {},
   "outputs": [
    {
     "name": "stdout",
     "output_type": "stream",
     "text": [
      "Hari apa biaya lebih dari 110000: Sabtu\n"
     ]
    }
   ],
   "source": [
    "print(\"Hari apa biaya lebih dari 110000:\", df[\"hari\"][df[\"biaya\"] > 110000].item())"
   ]
  },
  {
   "cell_type": "markdown",
   "metadata": {},
   "source": [
    "D. Siapa yang paling banyak datang ke kampus?"
   ]
  },
  {
   "cell_type": "code",
   "execution_count": 20,
   "metadata": {},
   "outputs": [
    {
     "name": "stdout",
     "output_type": "stream",
     "text": [
      "Mahasiswa yang paling banyak datang ke kampus: Ani\n"
     ]
    }
   ],
   "source": [
    "print(\"Mahasiswa yang paling banyak datang ke kampus:\", df[\"mahasiswa\"][df[\"datang\"].max()])"
   ]
  },
  {
   "cell_type": "markdown",
   "metadata": {},
   "source": [
    "E. Siapa yang datang pada hari minggu?"
   ]
  },
  {
   "cell_type": "code",
   "execution_count": 21,
   "metadata": {},
   "outputs": [
    {
     "name": "stdout",
     "output_type": "stream",
     "text": [
      "Mahasiswa yang datang pada hari minggu: Budi\n"
     ]
    }
   ],
   "source": [
    "print(\"Mahasiswa yang datang pada hari minggu:\", df[\"mahasiswa\"][df[\"hari\"] == \"Minggu\"].item())"
   ]
  },
  {
   "cell_type": "markdown",
   "metadata": {},
   "source": [
    "F. Berapa biaya tertinggi dan terendah?"
   ]
  },
  {
   "cell_type": "code",
   "execution_count": 22,
   "metadata": {},
   "outputs": [
    {
     "name": "stdout",
     "output_type": "stream",
     "text": [
      "Biaya tertinggi: 150000\n",
      "Biaya terendah: 15000\n"
     ]
    }
   ],
   "source": [
    "print(\"Biaya tertinggi:\", df[\"biaya\"].max())\n",
    "print(\"Biaya terendah:\", df[\"biaya\"].min())"
   ]
  },
  {
   "cell_type": "markdown",
   "metadata": {},
   "source": [
    "G. Berapa frekuensi datang tertinggi dan terendah?"
   ]
  },
  {
   "cell_type": "code",
   "execution_count": 23,
   "metadata": {},
   "outputs": [
    {
     "name": "stdout",
     "output_type": "stream",
     "text": [
      "Frekuensi datang tertinggi: 5\n",
      "Frekuensi datang terendah: 1\n"
     ]
    }
   ],
   "source": [
    "print(\"Frekuensi datang tertinggi:\", df[\"datang\"].max())\n",
    "print(\"Frekuensi datang terendah:\", df[\"datang\"].min())"
   ]
  },
  {
   "cell_type": "markdown",
   "metadata": {},
   "source": [
    "STUDI KASUS 2"
   ]
  },
  {
   "cell_type": "code",
   "execution_count": 24,
   "metadata": {},
   "outputs": [],
   "source": [
    "import pandas as pd\n",
    "import matplotlib.pyplot as plt\n"
   ]
  },
  {
   "cell_type": "code",
   "execution_count": 25,
   "metadata": {},
   "outputs": [],
   "source": [
    "fakultas = [\"Bisnis\", \"D3 Perhotelan\", \"ICT\", \"Ilmu Komunikasi\", \"Seni dan Desain\"]\n",
    "jumlah_mahasiswa = [260, 28, 284, 465, 735]\n",
    "akreditasi = [\"A\", \"A\", \"B\", \"A\", \"A\"]\n",
    "info_mahasiswa = pd.DataFrame({\n",
    "    \"fakultas\": fakultas,\n",
    "    \"jumlah_mahasiswa\": jumlah_mahasiswa,\n",
    "    \"akreditasi\": akreditasi,\n",
    "})"
   ]
  },
  {
   "cell_type": "code",
   "execution_count": 26,
   "metadata": {},
   "outputs": [
    {
     "data": {
      "text/plain": [
       "Text(0.5, 1.0, 'Jumlah Mahasiswa per Fakultas')"
      ]
     },
     "execution_count": 26,
     "metadata": {},
     "output_type": "execute_result"
    },
    {
     "data": {
      "image/png": "[encoded data removed]",
      "text/plain": [
       "<Figure size 640x480 with 1 Axes>"
      ]
     },
     "metadata": {},
     "output_type": "display_data"
    }
   ],
   "source": [
    "fig, ax = plt.subplots()\n",
    "ax.bar(info_mahasiswa[\"fakultas\"], info_mahasiswa[\"jumlah_mahasiswa\"],\n",
    "       width=1)\n",
    "ax.set_ylabel(\"Jumlah Mahasiswa\")\n",
    "ax.set_xlabel(\"Fakultas\")\n",
    "ax.set_title(\"Jumlah Mahasiswa per Fakultas\")"
   ]
  }
 ],
 "metadata": {
  "kernelspec": {
   "display_name": "Python 3",
   "language": "python",
   "name": "python3"
  },
  "language_info": {
   "codemirror_mode": {
    "name": "ipython",
    "version": 3
   },
   "file_extension": ".py",
   "mimetype": "text/x-python",
   "name": "python",
   "nbconvert_exporter": "python",
   "pygments_lexer": "ipython3",
   "version": "3.10.12"
  },
  "orig_nbformat": 4
 },
 "nbformat": 4,
 "nbformat_minor": 2
}
