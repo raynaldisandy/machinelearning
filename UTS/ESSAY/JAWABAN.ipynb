{
 "cells": [
  {
   "cell_type": "markdown",
   "metadata": {},
   "source": [
    "# **UTS**\n",
    "## Machine Learning\n",
    "\n",
    "<img src=\"https://upload.wikimedia.org/wikipedia/commons/6/68/LOGO_UEU_BY_ASU-06.png\" width=50% height=50%>\n",
    "\n",
    "<table style=\"width:75%\">\n",
    "  <tr>\n",
    "    <td><b>Dosen Pengampu</b></td>\n",
    "    <td>Jefry Sunupurwa Asri , S.Kom., M.Kom.</td>\n",
    "   </tr>\n",
    "  <tr>\n",
    "    <td><b>Mahasiswa</b></td>\n",
    "    <td>Raynaldi Sandy</td>\n",
    "  </tr>\n",
    "  <tr>\n",
    "    <td><b>NIM</b></td>\n",
    "    <td>20210801453</td>\n",
    "  </tr>\n",
    "</table>"
   ]
  },
  {
   "cell_type": "markdown",
   "metadata": {},
   "source": [
    "1. Jelaskan apa yang dimaksud dengan Machine Learning \n",
    "2. Berikan contoh penerapan implemetasi dalam kehidupan sehari-hari terkait Machine Learning. Dan jelaskan mengapa membutuhkannya dan manfaatnya\n",
    "3. Jelaskan macam-macam taxonomi dalam pengerapan Machine Learning"
   ]
  },
  {
   "cell_type": "markdown",
   "metadata": {},
   "source": [
    "JAWABAN : \n",
    "1. Machine Learning (ML) adalah cabang dari kecerdasan buatan (Artificial Intelligence) yang memungkinkan komputer untuk belajar dari data dan pengalaman tanpa harus secara eksplisit diprogram. Tujuan utama dari machine learning adalah untuk memberikan kemampuan kepada komputer untuk belajar melakukan tugas tertentu berdasarkan pola dan informasi dari data yang diberikan, tanpa perlu pemrograman langsung oleh manusia.\n",
    "\n",
    "2. Terdapat banyak contoh penerapan Machine Learning dalam kehidupan sehari-hari yang membantu memudahkan proses dan memberikan manfaat yang signifikan. Beberapa contohnya meliputi:\n",
    "\n",
    "•\tRekomendasi Produk di Platform E-commerce: Platform seperti Amazon, eBay, atau Tokopedia menggunakan algoritma Machine Learning untuk menganalisis perilaku pembeli, riwayat pembelian, dan preferensi untuk merekomendasikan produk kepada pengguna. Ini membantu meningkatkan pengalaman pengguna, meningkatkan penjualan, dan mengurangi waktu yang dibutuhkan pengguna untuk mencari produk yang diinginkan.\n",
    "\n",
    "•\tPengenalan Suara dan Pemrosesan Bahasa Alami: Asisten virtual seperti Google Assistant, Siri, atau Alexa menggunakan teknologi Machine Learning untuk memahami dan merespons perintah suara pengguna. Ini memudahkan akses informasi, membuat daftar tugas, atau bahkan mengontrol perangkat rumah tangga dengan suara.\n",
    "\n",
    "•\tDeteksi Penipuan pada Kartu Kredit: Institusi keuangan menggunakan Machine Learning untuk mengidentifikasi pola transaksi yang mencurigakan dan mendeteksi aktivitas penipuan pada kartu kredit. Hal ini membantu melindungi pelanggan dari kegiatan ilegal dan mencurigakan.\n",
    "\n",
    "•\tPengenalan Wajah dalam Sistem Keamanan: Penggunaan Machine Learning dalam sistem keamanan untuk mengenali wajah dalam pengawasan kamera CCTV membantu dalam identifikasi dan keamanan di tempat umum, seperti bandara, pusat perbelanjaan, dan area publik lainnya.\n",
    "\n",
    "Manfaat dari implementasi Machine Learning ini meliputi:\n",
    "\n",
    "•\tPeningkatan Efisiensi: Memungkinkan otomatisasi tugas-tugas yang sebelumnya memakan waktu dan dapat dilakukan dengan lebih cepat dan efisien.\n",
    "\n",
    "•\tPeningkatan Akurasi: Kemampuan algoritma Machine Learning untuk belajar dari data memungkinkan pengambilan keputusan yang lebih akurat dan tepat.\n",
    "\n",
    "•\tPenghematan Biaya: Dengan mengurangi kebutuhan akan intervensi manusia dalam beberapa proses, hal ini dapat mengurangi biaya operasional.\n",
    "\n",
    "•\tPeningkatan Pengalaman Pengguna: Dengan memberikan rekomendasi yang lebih relevan atau solusi yang lebih personal, pengguna mendapatkan pengalaman yang lebih baik dalam berinteraksi dengan teknologi.\n",
    "\n",
    "\n",
    "3.   \n",
    "A.\tBerdasarkan Jenis Tugas:\n",
    "\n",
    "•\tPembelajaran Terawasi (Supervised Learning): Model menggunakan data berlabel untuk mempelajari hubungan antara input dan output yang diharapkan.\n",
    "\n",
    "•\tPembelajaran Tak Terawasi (Unsupervised Learning): Model menggunakan data yang tidak berlabel untuk menemukan pola atau struktur dalam data.\n",
    "\n",
    "•\tPembelajaran Penguatan (Reinforcement Learning): Model belajar melalui interaksi dengan lingkungan, menerima reward sebagai umpan balik terhadap tindakan yang diambil.\n",
    "\n",
    "B.\tBerdasarkan Pendekatan Model:\n",
    "\n",
    "•\tParametrik vs. Non-parametrik: Model parametrik memiliki jumlah parameter yang tetap dan terbatas, sementara model non-parametrik memiliki fleksibilitas yang lebih besar dalam menyesuaikan pola.\n",
    "\n",
    "•\tLinear vs. Non-linear: Model linear menggunakan hubungan linier antara input dan output, sementara model non-linear dapat menangkap hubungan yang lebih kompleks dan tidak linier.\n",
    "\n",
    "C.\tBerdasarkan Tujuan:\n",
    "\n",
    "•\tKlasifikasi: Memisahkan data ke dalam kelas atau kategori yang berbeda.\n",
    "\n",
    "•\tRegresi: Memprediksi nilai kontinu dari data berdasarkan pola yang ada.\n",
    "\n",
    "•\tPengelompokan (Clustering): Mengelompokkan data ke dalam kategori berdasarkan kesamaan fitur.\n",
    "\n",
    "•\tDeteksi Anomali: Mengidentifikasi data yang tidak biasa atau berbeda dari mayoritas data.\n",
    "Pencarian Asosiasi: Mencari hubungan antara item dalam kumpulan data.\n",
    "\n",
    "\n",
    "D.\tBerdasarkan Teknik atau Algoritma:\n",
    "\n",
    "•\tDecision Trees (Pohon Keputusan): Membuat keputusan berdasarkan serangkaian aturan.\n",
    "\n",
    "•\tNeural Networks (Jaringan Saraf Tiruan): Model yang terinspirasi dari struktur dan fungsi jaringan saraf manusia.\n",
    "\n",
    "•\tSupport Vector Machines (SVM): Memisahkan data ke dalam kelas dengan menemukan hyperplane terbaik.\n",
    "\n",
    "•\tK-Means Clustering: Metode pengelompokan data ke dalam kategori berdasarkan pusat cluster."
   ]
  }
 ],
 "metadata": {
  "kernelspec": {
   "display_name": "Python 3",
   "language": "python",
   "name": "python3"
  },
  "language_info": {
   "name": "python",
   "version": "3.10.12"
  }
 },
 "nbformat": 4,
 "nbformat_minor": 2
}
